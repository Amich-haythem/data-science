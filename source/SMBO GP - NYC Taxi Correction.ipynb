{
 "cells": [
  {
   "cell_type": "markdown",
   "metadata": {},
   "source": [
    "# SMBO Gaussian Process - New York City Taxi"
   ]
  },
  {
   "cell_type": "code",
   "execution_count": 1,
   "metadata": {},
   "outputs": [
    {
     "ename": "ModuleNotFoundError",
     "evalue": "No module named 'bayes_opt'",
     "output_type": "error",
     "traceback": [
      "\u001b[1;31m---------------------------------------------------------------------------\u001b[0m",
      "\u001b[1;31mModuleNotFoundError\u001b[0m                       Traceback (most recent call last)",
      "\u001b[1;32m<ipython-input-1-9665da27bee1>\u001b[0m in \u001b[0;36m<module>\u001b[1;34m\u001b[0m\n\u001b[0;32m      8\u001b[0m \u001b[1;33m\u001b[0m\u001b[0m\n\u001b[0;32m      9\u001b[0m \u001b[1;32mimport\u001b[0m \u001b[0mxgboost\u001b[0m \u001b[1;32mas\u001b[0m \u001b[0mxgb\u001b[0m\u001b[1;33m\u001b[0m\u001b[1;33m\u001b[0m\u001b[0m\n\u001b[1;32m---> 10\u001b[1;33m \u001b[1;32mfrom\u001b[0m \u001b[0mbayes_opt\u001b[0m \u001b[1;32mimport\u001b[0m \u001b[0mBayesianOptimization\u001b[0m\u001b[1;33m\u001b[0m\u001b[1;33m\u001b[0m\u001b[0m\n\u001b[0m\u001b[0;32m     11\u001b[0m \u001b[1;32mfrom\u001b[0m \u001b[0msklearn\u001b[0m\u001b[1;33m.\u001b[0m\u001b[0mmetrics\u001b[0m \u001b[1;32mimport\u001b[0m \u001b[0mr2_score\u001b[0m\u001b[1;33m\u001b[0m\u001b[1;33m\u001b[0m\u001b[0m\n\u001b[0;32m     12\u001b[0m \u001b[1;33m\u001b[0m\u001b[0m\n",
      "\u001b[1;31mModuleNotFoundError\u001b[0m: No module named 'bayes_opt'"
     ]
    }
   ],
   "source": [
    "import numpy as np\n",
    "import pandas as pd\n",
    "import matplotlib.pyplot as plt\n",
    "from matplotlib.colors import ListedColormap\n",
    "import matplotlib.patches as patches\n",
    "import seaborn as sns\n",
    "import pandas as pd\n",
    "\n",
    "import xgboost as xgb\n",
    "from bayes_opt import BayesianOptimization\n",
    "from sklearn.metrics import r2_score\n",
    "\n",
    "sns.set()"
   ]
  },
  {
   "cell_type": "markdown",
   "metadata": {},
   "source": [
    "## Chargement des données"
   ]
  },
  {
   "cell_type": "code",
   "execution_count": null,
   "metadata": {},
   "outputs": [],
   "source": [
    "data = pd.read_csv(\"nyc_taxi.csv\").iloc[:, 1:]\n",
    "data.head()"
   ]
  },
  {
   "cell_type": "code",
   "execution_count": 3,
   "metadata": {},
   "outputs": [
    {
     "data": {
      "text/html": [
       "<div>\n",
       "<style scoped>\n",
       "    .dataframe tbody tr th:only-of-type {\n",
       "        vertical-align: middle;\n",
       "    }\n",
       "\n",
       "    .dataframe tbody tr th {\n",
       "        vertical-align: top;\n",
       "    }\n",
       "\n",
       "    .dataframe thead th {\n",
       "        text-align: right;\n",
       "    }\n",
       "</style>\n",
       "<table border=\"1\" class=\"dataframe\">\n",
       "  <thead>\n",
       "    <tr style=\"text-align: right;\">\n",
       "      <th></th>\n",
       "      <th>key</th>\n",
       "      <th>fare_amount</th>\n",
       "      <th>pickup_datetime</th>\n",
       "      <th>pickup_longitude</th>\n",
       "      <th>pickup_latitude</th>\n",
       "      <th>dropoff_longitude</th>\n",
       "      <th>dropoff_latitude</th>\n",
       "      <th>passenger_count</th>\n",
       "    </tr>\n",
       "  </thead>\n",
       "  <tbody>\n",
       "    <tr>\n",
       "      <th>0</th>\n",
       "      <td>2009-06-15 17:26:21.0000001</td>\n",
       "      <td>4.5</td>\n",
       "      <td>2009-06-15 17:26:00+00:00</td>\n",
       "      <td>-73.844311</td>\n",
       "      <td>40.721319</td>\n",
       "      <td>-73.841610</td>\n",
       "      <td>40.712278</td>\n",
       "      <td>1</td>\n",
       "    </tr>\n",
       "    <tr>\n",
       "      <th>1</th>\n",
       "      <td>2010-01-05 16:52:16.0000002</td>\n",
       "      <td>16.9</td>\n",
       "      <td>2010-01-05 16:52:00+00:00</td>\n",
       "      <td>-74.016048</td>\n",
       "      <td>40.711303</td>\n",
       "      <td>-73.979268</td>\n",
       "      <td>40.782004</td>\n",
       "      <td>1</td>\n",
       "    </tr>\n",
       "    <tr>\n",
       "      <th>2</th>\n",
       "      <td>2011-08-18 00:35:00.00000049</td>\n",
       "      <td>5.7</td>\n",
       "      <td>2011-08-18 00:35:00+00:00</td>\n",
       "      <td>-73.982738</td>\n",
       "      <td>40.761270</td>\n",
       "      <td>-73.991242</td>\n",
       "      <td>40.750562</td>\n",
       "      <td>2</td>\n",
       "    </tr>\n",
       "    <tr>\n",
       "      <th>3</th>\n",
       "      <td>2012-04-21 04:30:42.0000001</td>\n",
       "      <td>7.7</td>\n",
       "      <td>2012-04-21 04:30:00+00:00</td>\n",
       "      <td>-73.987130</td>\n",
       "      <td>40.733143</td>\n",
       "      <td>-73.991567</td>\n",
       "      <td>40.758092</td>\n",
       "      <td>1</td>\n",
       "    </tr>\n",
       "    <tr>\n",
       "      <th>4</th>\n",
       "      <td>2010-03-09 07:51:00.000000135</td>\n",
       "      <td>5.3</td>\n",
       "      <td>2010-03-09 07:51:00+00:00</td>\n",
       "      <td>-73.968095</td>\n",
       "      <td>40.768008</td>\n",
       "      <td>-73.956655</td>\n",
       "      <td>40.783762</td>\n",
       "      <td>1</td>\n",
       "    </tr>\n",
       "  </tbody>\n",
       "</table>\n",
       "</div>"
      ],
      "text/plain": [
       "                             key  fare_amount           pickup_datetime  \\\n",
       "0    2009-06-15 17:26:21.0000001          4.5 2009-06-15 17:26:00+00:00   \n",
       "1    2010-01-05 16:52:16.0000002         16.9 2010-01-05 16:52:00+00:00   \n",
       "2   2011-08-18 00:35:00.00000049          5.7 2011-08-18 00:35:00+00:00   \n",
       "3    2012-04-21 04:30:42.0000001          7.7 2012-04-21 04:30:00+00:00   \n",
       "4  2010-03-09 07:51:00.000000135          5.3 2010-03-09 07:51:00+00:00   \n",
       "\n",
       "   pickup_longitude  pickup_latitude  dropoff_longitude  dropoff_latitude  \\\n",
       "0        -73.844311        40.721319         -73.841610         40.712278   \n",
       "1        -74.016048        40.711303         -73.979268         40.782004   \n",
       "2        -73.982738        40.761270         -73.991242         40.750562   \n",
       "3        -73.987130        40.733143         -73.991567         40.758092   \n",
       "4        -73.968095        40.768008         -73.956655         40.783762   \n",
       "\n",
       "   passenger_count  \n",
       "0                1  \n",
       "1                1  \n",
       "2                2  \n",
       "3                1  \n",
       "4                1  "
      ]
     },
     "execution_count": 3,
     "metadata": {},
     "output_type": "execute_result"
    }
   ],
   "source": [
    "data['pickup_datetime'] = data['pickup_datetime'].str.slice(0, 16)\n",
    "data['pickup_datetime'] = pd.to_datetime(data['pickup_datetime'], utc=True, format='%Y-%m-%d %H:%M')\n",
    "data.head()"
   ]
  },
  {
   "cell_type": "markdown",
   "metadata": {},
   "source": [
    "## Nettoyage des données"
   ]
  },
  {
   "cell_type": "code",
   "execution_count": 4,
   "metadata": {},
   "outputs": [],
   "source": [
    "# Remove observations with missing values\n",
    "# Since there are only a few of these, i'm not concerned with imputation\n",
    "data.dropna(how='any', axis='rows', inplace=True)\n",
    "\n",
    "# Removing observations with erroneous values\n",
    "mask = data['pickup_longitude'].between(-75, -73)\n",
    "mask &= data['dropoff_longitude'].between(-75, -73)\n",
    "mask &= data['pickup_latitude'].between(40, 42)\n",
    "mask &= data['dropoff_latitude'].between(40, 42)\n",
    "mask &= data['passenger_count'].between(0, 8)\n",
    "mask &= data['fare_amount'].between(0, 250)\n",
    "\n",
    "data = data[mask]"
   ]
  },
  {
   "cell_type": "markdown",
   "metadata": {},
   "source": [
    "## Feature Engineering"
   ]
  },
  {
   "cell_type": "code",
   "execution_count": 5,
   "metadata": {},
   "outputs": [],
   "source": [
    "def dist(pickup_lat, pickup_long, dropoff_lat, dropoff_long):  \n",
    "    distance = np.abs(dropoff_lat - pickup_lat) + np.abs(dropoff_long - pickup_long)\n",
    "    return distance"
   ]
  },
  {
   "cell_type": "code",
   "execution_count": 6,
   "metadata": {},
   "outputs": [],
   "source": [
    "def transform(data):\n",
    "    # Extract date attributes and then drop the pickup_datetime column\n",
    "    data['hour'] = data['pickup_datetime'].dt.hour\n",
    "    data['day'] = data['pickup_datetime'].dt.day\n",
    "    data['month'] = data['pickup_datetime'].dt.month\n",
    "    data['year'] = data['pickup_datetime'].dt.year\n",
    "    data = data.drop('pickup_datetime', axis=1)\n",
    "\n",
    "    # Distances to nearby airports, and city center\n",
    "    # By reporting distances to these points, the model can somewhat triangulate other locations of interest\n",
    "    nyc = (-74.0063889, 40.7141667)\n",
    "    jfk = (-73.7822222222, 40.6441666667)\n",
    "    ewr = (-74.175, 40.69)\n",
    "    lgr = (-73.87, 40.77)\n",
    "    data['distance_to_center'] = dist(nyc[1], nyc[0],\n",
    "                                      data['pickup_latitude'], data['pickup_longitude'])\n",
    "    data['pickup_distance_to_jfk'] = dist(jfk[1], jfk[0],\n",
    "                                         data['pickup_latitude'], data['pickup_longitude'])\n",
    "    data['dropoff_distance_to_jfk'] = dist(jfk[1], jfk[0],\n",
    "                                           data['dropoff_latitude'], data['dropoff_longitude'])\n",
    "    data['pickup_distance_to_ewr'] = dist(ewr[1], ewr[0], \n",
    "                                          data['pickup_latitude'], data['pickup_longitude'])\n",
    "    data['dropoff_distance_to_ewr'] = dist(ewr[1], ewr[0],\n",
    "                                           data['dropoff_latitude'], data['dropoff_longitude'])\n",
    "    data['pickup_distance_to_lgr'] = dist(lgr[1], lgr[0],\n",
    "                                          data['pickup_latitude'], data['pickup_longitude'])\n",
    "    data['dropoff_distance_to_lgr'] = dist(lgr[1], lgr[0],\n",
    "                                           data['dropoff_latitude'], data['dropoff_longitude'])\n",
    "    \n",
    "    data['long_dist'] = data['pickup_longitude'] - data['dropoff_longitude']\n",
    "    data['lat_dist'] = data['pickup_latitude'] - data['dropoff_latitude']\n",
    "    \n",
    "    data['dist'] = dist(data['pickup_latitude'], data['pickup_longitude'],\n",
    "                        data['dropoff_latitude'], data['dropoff_longitude'])\n",
    "    \n",
    "    return data\n",
    "\n",
    "\n",
    "dataset = transform(data)\n",
    "dataset = dataset.drop(['key'], axis=1)\n",
    "dataset = dataset.sample(10000)"
   ]
  },
  {
   "cell_type": "code",
   "execution_count": 7,
   "metadata": {},
   "outputs": [
    {
     "name": "stderr",
     "output_type": "stream",
     "text": [
      "/opt/conda/lib/python3.7/site-packages/xgboost/core.py:587: FutureWarning: Series.base is deprecated and will be removed in a future version\n",
      "  if getattr(data, 'base', None) is not None and \\\n"
     ]
    }
   ],
   "source": [
    "from sklearn.model_selection import train_test_split\n",
    "\n",
    "X_train, X_test, y_train, y_test = train_test_split(dataset.drop('fare_amount', axis=1),\n",
    "                                                    dataset['fare_amount'], test_size=0.25)\n",
    "\n",
    "dtrain = xgb.DMatrix(X_train, label=y_train)\n",
    "dtest = xgb.DMatrix(X_test)"
   ]
  },
  {
   "cell_type": "code",
   "execution_count": 8,
   "metadata": {},
   "outputs": [
    {
     "data": {
      "text/html": [
       "<div>\n",
       "<style scoped>\n",
       "    .dataframe tbody tr th:only-of-type {\n",
       "        vertical-align: middle;\n",
       "    }\n",
       "\n",
       "    .dataframe tbody tr th {\n",
       "        vertical-align: top;\n",
       "    }\n",
       "\n",
       "    .dataframe thead th {\n",
       "        text-align: right;\n",
       "    }\n",
       "</style>\n",
       "<table border=\"1\" class=\"dataframe\">\n",
       "  <thead>\n",
       "    <tr style=\"text-align: right;\">\n",
       "      <th></th>\n",
       "      <th>fare_amount</th>\n",
       "      <th>pickup_longitude</th>\n",
       "      <th>pickup_latitude</th>\n",
       "      <th>dropoff_longitude</th>\n",
       "      <th>dropoff_latitude</th>\n",
       "      <th>passenger_count</th>\n",
       "      <th>hour</th>\n",
       "      <th>day</th>\n",
       "      <th>month</th>\n",
       "      <th>year</th>\n",
       "      <th>distance_to_center</th>\n",
       "      <th>pickup_distance_to_jfk</th>\n",
       "      <th>dropoff_distance_to_jfk</th>\n",
       "      <th>pickup_distance_to_ewr</th>\n",
       "      <th>dropoff_distance_to_ewr</th>\n",
       "      <th>pickup_distance_to_lgr</th>\n",
       "      <th>dropoff_distance_to_lgr</th>\n",
       "      <th>long_dist</th>\n",
       "      <th>lat_dist</th>\n",
       "      <th>dist</th>\n",
       "    </tr>\n",
       "  </thead>\n",
       "  <tbody>\n",
       "    <tr>\n",
       "      <th>590359</th>\n",
       "      <td>7.3</td>\n",
       "      <td>-73.989373</td>\n",
       "      <td>40.723242</td>\n",
       "      <td>-74.010693</td>\n",
       "      <td>40.713497</td>\n",
       "      <td>5</td>\n",
       "      <td>22</td>\n",
       "      <td>2</td>\n",
       "      <td>8</td>\n",
       "      <td>2010</td>\n",
       "      <td>0.026091</td>\n",
       "      <td>0.286226</td>\n",
       "      <td>0.297801</td>\n",
       "      <td>0.218869</td>\n",
       "      <td>0.187804</td>\n",
       "      <td>0.166131</td>\n",
       "      <td>0.197196</td>\n",
       "      <td>0.021320</td>\n",
       "      <td>0.009745</td>\n",
       "      <td>0.031065</td>\n",
       "    </tr>\n",
       "    <tr>\n",
       "      <th>587045</th>\n",
       "      <td>9.7</td>\n",
       "      <td>-74.005965</td>\n",
       "      <td>40.748707</td>\n",
       "      <td>-73.980765</td>\n",
       "      <td>40.763633</td>\n",
       "      <td>4</td>\n",
       "      <td>14</td>\n",
       "      <td>12</td>\n",
       "      <td>1</td>\n",
       "      <td>2009</td>\n",
       "      <td>0.034964</td>\n",
       "      <td>0.328283</td>\n",
       "      <td>0.318009</td>\n",
       "      <td>0.227742</td>\n",
       "      <td>0.267868</td>\n",
       "      <td>0.157258</td>\n",
       "      <td>0.117132</td>\n",
       "      <td>-0.025200</td>\n",
       "      <td>-0.014926</td>\n",
       "      <td>0.040126</td>\n",
       "    </tr>\n",
       "    <tr>\n",
       "      <th>352067</th>\n",
       "      <td>8.5</td>\n",
       "      <td>-73.982462</td>\n",
       "      <td>40.767397</td>\n",
       "      <td>-73.979372</td>\n",
       "      <td>40.784540</td>\n",
       "      <td>1</td>\n",
       "      <td>15</td>\n",
       "      <td>24</td>\n",
       "      <td>3</td>\n",
       "      <td>2014</td>\n",
       "      <td>0.077157</td>\n",
       "      <td>0.323470</td>\n",
       "      <td>0.337523</td>\n",
       "      <td>0.269935</td>\n",
       "      <td>0.290168</td>\n",
       "      <td>0.115065</td>\n",
       "      <td>0.123912</td>\n",
       "      <td>-0.003090</td>\n",
       "      <td>-0.017143</td>\n",
       "      <td>0.020233</td>\n",
       "    </tr>\n",
       "    <tr>\n",
       "      <th>637678</th>\n",
       "      <td>4.9</td>\n",
       "      <td>-73.982383</td>\n",
       "      <td>40.774613</td>\n",
       "      <td>-74.004048</td>\n",
       "      <td>40.725588</td>\n",
       "      <td>1</td>\n",
       "      <td>20</td>\n",
       "      <td>17</td>\n",
       "      <td>9</td>\n",
       "      <td>2010</td>\n",
       "      <td>0.084452</td>\n",
       "      <td>0.330607</td>\n",
       "      <td>0.303247</td>\n",
       "      <td>0.277230</td>\n",
       "      <td>0.206540</td>\n",
       "      <td>0.116996</td>\n",
       "      <td>0.178460</td>\n",
       "      <td>0.021665</td>\n",
       "      <td>0.049025</td>\n",
       "      <td>0.070690</td>\n",
       "    </tr>\n",
       "    <tr>\n",
       "      <th>853464</th>\n",
       "      <td>8.5</td>\n",
       "      <td>-73.984154</td>\n",
       "      <td>40.755379</td>\n",
       "      <td>-73.978722</td>\n",
       "      <td>40.777100</td>\n",
       "      <td>2</td>\n",
       "      <td>21</td>\n",
       "      <td>18</td>\n",
       "      <td>4</td>\n",
       "      <td>2015</td>\n",
       "      <td>0.063447</td>\n",
       "      <td>0.313144</td>\n",
       "      <td>0.329432</td>\n",
       "      <td>0.256225</td>\n",
       "      <td>0.283378</td>\n",
       "      <td>0.128775</td>\n",
       "      <td>0.115821</td>\n",
       "      <td>-0.005432</td>\n",
       "      <td>-0.021721</td>\n",
       "      <td>0.027153</td>\n",
       "    </tr>\n",
       "  </tbody>\n",
       "</table>\n",
       "</div>"
      ],
      "text/plain": [
       "        fare_amount  pickup_longitude  pickup_latitude  dropoff_longitude  \\\n",
       "590359          7.3        -73.989373        40.723242         -74.010693   \n",
       "587045          9.7        -74.005965        40.748707         -73.980765   \n",
       "352067          8.5        -73.982462        40.767397         -73.979372   \n",
       "637678          4.9        -73.982383        40.774613         -74.004048   \n",
       "853464          8.5        -73.984154        40.755379         -73.978722   \n",
       "\n",
       "        dropoff_latitude  passenger_count  hour  day  month  year  \\\n",
       "590359         40.713497                5    22    2      8  2010   \n",
       "587045         40.763633                4    14   12      1  2009   \n",
       "352067         40.784540                1    15   24      3  2014   \n",
       "637678         40.725588                1    20   17      9  2010   \n",
       "853464         40.777100                2    21   18      4  2015   \n",
       "\n",
       "        distance_to_center  pickup_distance_to_jfk  dropoff_distance_to_jfk  \\\n",
       "590359            0.026091                0.286226                 0.297801   \n",
       "587045            0.034964                0.328283                 0.318009   \n",
       "352067            0.077157                0.323470                 0.337523   \n",
       "637678            0.084452                0.330607                 0.303247   \n",
       "853464            0.063447                0.313144                 0.329432   \n",
       "\n",
       "        pickup_distance_to_ewr  dropoff_distance_to_ewr  \\\n",
       "590359                0.218869                 0.187804   \n",
       "587045                0.227742                 0.267868   \n",
       "352067                0.269935                 0.290168   \n",
       "637678                0.277230                 0.206540   \n",
       "853464                0.256225                 0.283378   \n",
       "\n",
       "        pickup_distance_to_lgr  dropoff_distance_to_lgr  long_dist  lat_dist  \\\n",
       "590359                0.166131                 0.197196   0.021320  0.009745   \n",
       "587045                0.157258                 0.117132  -0.025200 -0.014926   \n",
       "352067                0.115065                 0.123912  -0.003090 -0.017143   \n",
       "637678                0.116996                 0.178460   0.021665  0.049025   \n",
       "853464                0.128775                 0.115821  -0.005432 -0.021721   \n",
       "\n",
       "            dist  \n",
       "590359  0.031065  \n",
       "587045  0.040126  \n",
       "352067  0.020233  \n",
       "637678  0.070690  \n",
       "853464  0.027153  "
      ]
     },
     "execution_count": 8,
     "metadata": {},
     "output_type": "execute_result"
    }
   ],
   "source": [
    "dataset.head()"
   ]
  },
  {
   "cell_type": "markdown",
   "metadata": {},
   "source": [
    "## Optimisation bayésienne des hyper-paramètres"
   ]
  },
  {
   "cell_type": "markdown",
   "metadata": {},
   "source": [
    "### Minimisation de la fonction de perte"
   ]
  },
  {
   "cell_type": "code",
   "execution_count": 41,
   "metadata": {},
   "outputs": [],
   "source": [
    "def xgb_evaluate(max_depth, gamma, colsample_bytree, nrounds):\n",
    "    params = {'eval_metric': 'rmse',\n",
    "              'objective':'reg:squarederror',\n",
    "              'max_depth': int(max_depth),\n",
    "              'subsample': 0.8,\n",
    "              'eta': 0.1,\n",
    "              'gamma': gamma,\n",
    "              'colsample_bytree': colsample_bytree,\n",
    "              'nrounds': int(nrounds)}\n",
    "    \n",
    "    # Used around 1000 boosting rounds in the full model\n",
    "    cv_result = xgb.cv(params, dtrain, num_boost_round=100, nfold=3, metrics=['rmse'])    \n",
    "    \n",
    "    # Bayesian optimization only knows how to maximize, not minimize, so return the negative RMSE\n",
    "    return -cv_result['test-rmse-mean'].iloc[-1]"
   ]
  },
  {
   "cell_type": "code",
   "execution_count": 43,
   "metadata": {},
   "outputs": [
    {
     "name": "stdout",
     "output_type": "stream",
     "text": [
      "|   iter    |  target   | colsam... |   gamma   | max_depth |  nrounds  |\n",
      "-------------------------------------------------------------------------\n",
      "| \u001b[0m 1       \u001b[0m | \u001b[0m-4.395   \u001b[0m | \u001b[0m 0.6441  \u001b[0m | \u001b[0m 0.777   \u001b[0m | \u001b[0m 6.344   \u001b[0m | \u001b[0m 728.6   \u001b[0m |\n",
      "| \u001b[95m 2       \u001b[0m | \u001b[95m-4.39    \u001b[0m | \u001b[95m 0.447   \u001b[0m | \u001b[95m 0.3536  \u001b[0m | \u001b[95m 3.225   \u001b[0m | \u001b[95m 141.3   \u001b[0m |\n",
      "| \u001b[95m 3       \u001b[0m | \u001b[95m-4.375   \u001b[0m | \u001b[95m 0.7995  \u001b[0m | \u001b[95m 0.4795  \u001b[0m | \u001b[95m 4.51    \u001b[0m | \u001b[95m 682.7   \u001b[0m |\n",
      "| \u001b[0m 4       \u001b[0m | \u001b[0m-4.394   \u001b[0m | \u001b[0m 0.9     \u001b[0m | \u001b[0m 0.0     \u001b[0m | \u001b[0m 3.0     \u001b[0m | \u001b[0m 448.3   \u001b[0m |\n",
      "| \u001b[0m 5       \u001b[0m | \u001b[0m-4.394   \u001b[0m | \u001b[0m 0.9     \u001b[0m | \u001b[0m 7.366e-0\u001b[0m | \u001b[0m 3.0     \u001b[0m | \u001b[0m 606.7   \u001b[0m |\n",
      "| \u001b[0m 6       \u001b[0m | \u001b[0m-4.447   \u001b[0m | \u001b[0m 0.7624  \u001b[0m | \u001b[0m 0.9814  \u001b[0m | \u001b[0m 6.919   \u001b[0m | \u001b[0m 280.9   \u001b[0m |\n",
      "| \u001b[0m 7       \u001b[0m | \u001b[0m-4.417   \u001b[0m | \u001b[0m 0.9     \u001b[0m | \u001b[0m 1.0     \u001b[0m | \u001b[0m 7.0     \u001b[0m | \u001b[0m 100.0   \u001b[0m |\n",
      "| \u001b[0m 8       \u001b[0m | \u001b[0m-4.394   \u001b[0m | \u001b[0m 0.9     \u001b[0m | \u001b[0m 0.0     \u001b[0m | \u001b[0m 3.0     \u001b[0m | \u001b[0m 1e+03   \u001b[0m |\n",
      "| \u001b[95m 9       \u001b[0m | \u001b[95m-4.36    \u001b[0m | \u001b[95m 0.8848  \u001b[0m | \u001b[95m 0.3678  \u001b[0m | \u001b[95m 3.021   \u001b[0m | \u001b[95m 916.5   \u001b[0m |\n",
      "| \u001b[0m 10      \u001b[0m | \u001b[0m-4.372   \u001b[0m | \u001b[0m 0.4089  \u001b[0m | \u001b[0m 0.8275  \u001b[0m | \u001b[0m 6.994   \u001b[0m | \u001b[0m 931.4   \u001b[0m |\n",
      "| \u001b[95m 11      \u001b[0m | \u001b[95m-4.331   \u001b[0m | \u001b[95m 0.5103  \u001b[0m | \u001b[95m 0.09453 \u001b[0m | \u001b[95m 3.021   \u001b[0m | \u001b[95m 879.5   \u001b[0m |\n",
      "| \u001b[0m 12      \u001b[0m | \u001b[0m-4.335   \u001b[0m | \u001b[0m 0.3973  \u001b[0m | \u001b[0m 0.05083 \u001b[0m | \u001b[0m 3.146   \u001b[0m | \u001b[0m 855.2   \u001b[0m |\n",
      "| \u001b[0m 13      \u001b[0m | \u001b[0m-4.416   \u001b[0m | \u001b[0m 0.7999  \u001b[0m | \u001b[0m 0.1484  \u001b[0m | \u001b[0m 6.969   \u001b[0m | \u001b[0m 874.2   \u001b[0m |\n",
      "=========================================================================\n"
     ]
    }
   ],
   "source": [
    "xgb_bo = BayesianOptimization(xgb_evaluate, {'max_depth': (3, 7), \n",
    "                                             'gamma': (0, 1),\n",
    "                                             'colsample_bytree': (0.3, 0.9),\n",
    "                                             'nrounds': (100, 1000)})\n",
    "# Use the expected improvement acquisition function to handle negative numbers\n",
    "# Optimally needs quite a few more initiation points and number of iterations\n",
    "xgb_bo.maximize(init_points=3, n_iter=10, acq='ei')"
   ]
  },
  {
   "cell_type": "markdown",
   "metadata": {},
   "source": [
    "## Entraînement du modèle optimisé"
   ]
  },
  {
   "cell_type": "code",
   "execution_count": 50,
   "metadata": {},
   "outputs": [
    {
     "name": "stderr",
     "output_type": "stream",
     "text": [
      "/opt/conda/lib/python3.7/site-packages/xgboost/core.py:587: FutureWarning: Series.base is deprecated and will be removed in a future version\n",
      "  if getattr(data, 'base', None) is not None and \\\n"
     ]
    },
    {
     "data": {
      "text/plain": [
       "XGBRegressor(base_score=0.5, booster='gbtree', colsample_bylevel=1,\n",
       "             colsample_bynode=1, colsample_bytree=0.5, eta=0.1,\n",
       "             eval_metric='rmse', gamma=0.1, importance_type='gain',\n",
       "             learning_rate=0.1, max_delta_step=0, max_depth=3,\n",
       "             min_child_weight=1, missing=None, n_estimators=100, n_jobs=1,\n",
       "             nrounds=1000, nthread=None, objective='reg:squarederror',\n",
       "             random_state=0, reg_alpha=0, reg_lambda=1, scale_pos_weight=1,\n",
       "             seed=None, silent=None, subsample=0.8, verbosity=1)"
      ]
     },
     "execution_count": 50,
     "metadata": {},
     "output_type": "execute_result"
    }
   ],
   "source": [
    "model = xgb.XGBRegressor(**{'eval_metric': 'rmse',\n",
    "              'objective':'reg:squarederror',\n",
    "              'max_depth': 3,\n",
    "              'subsample': 0.8,\n",
    "              'eta': 0.1,\n",
    "              'gamma': 0.1,\n",
    "              'colsample_bytree': 0.5,\n",
    "              'nrounds': 1000})\n",
    "\n",
    "model.fit(X_train, y_train)"
   ]
  },
  {
   "cell_type": "code",
   "execution_count": 51,
   "metadata": {},
   "outputs": [
    {
     "name": "stdout",
     "output_type": "stream",
     "text": [
      "0.7605249573374324\n"
     ]
    }
   ],
   "source": [
    "from sklearn.metrics import r2_score\n",
    "\n",
    "print(r2_score(y_test, model.predict(X_test)))"
   ]
  },
  {
   "cell_type": "code",
   "execution_count": null,
   "metadata": {},
   "outputs": [],
   "source": []
  }
 ],
 "metadata": {
  "kernelspec": {
   "display_name": "Python 3",
   "language": "python",
   "name": "python3"
  },
  "language_info": {
   "codemirror_mode": {
    "name": "ipython",
    "version": 3
   },
   "file_extension": ".py",
   "mimetype": "text/x-python",
   "name": "python",
   "nbconvert_exporter": "python",
   "pygments_lexer": "ipython3",
   "version": "3.6.9"
  }
 },
 "nbformat": 4,
 "nbformat_minor": 2
}
