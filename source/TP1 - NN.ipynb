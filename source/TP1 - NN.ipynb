{
 "cells": [
  {
   "cell_type": "markdown",
   "metadata": {},
   "source": [
    "# TP1 - Premiers pas en deep learning\n",
    "\n",
    "Le but de ce tp est de vous familiariser avec les bibliothèques de deep learnng, en particulier Keras piur son fonctionnement rapide et intuitif. Les éléments vu en machine learning, serviront bien entendu à ce tp. Parmi les tâches essentielles à aborder, nous avons!\n",
    "\n",
    "- la préparation et la normalisation des données\n",
    "- la construction d'un modèle. Pour aller plus loin, vous pouvez créer une classe comme vu en programmation avancée.\n",
    "- L'apprentissage en choisissant de bons paramètres, notamment par grid search \n",
    "- l'évaluation du modèle en fonction de la tâche choisie (classification, régression). Une considération sera prise en compte si la validation croisée est présente\n",
    "\n",
    "Un compte-rendu de tp est demandé contenant les éléments que vous jugez avoir appris lors de cet exercice d'implémentation"
   ]
  },
  {
   "cell_type": "code",
   "execution_count": null,
   "metadata": {},
   "outputs": [],
   "source": [
    "# chargement des données \n",
    "\n",
    "import numpy as np\n",
    "import pandas as pd\n",
    "import matplotlib.pyplot as plt\n",
    "from keras.datasets import boston_housing\n",
    "\n",
    "(train_data, train_targets), (test_data, test_targets) = boston_housing.load_data()"
   ]
  },
  {
   "cell_type": "code",
   "execution_count": null,
   "metadata": {},
   "outputs": [],
   "source": [
    "print(pd.DataFrame(train_data))"
   ]
  },
  {
   "cell_type": "code",
   "execution_count": null,
   "metadata": {},
   "outputs": [],
   "source": []
  }
 ],
 "metadata": {
  "kernelspec": {
   "display_name": "Python 3",
   "language": "python",
   "name": "python3"
  },
  "language_info": {
   "codemirror_mode": {
    "name": "ipython",
    "version": 3
   },
   "file_extension": ".py",
   "mimetype": "text/x-python",
   "name": "python",
   "nbconvert_exporter": "python",
   "pygments_lexer": "ipython3",
   "version": "3.7.4"
  }
 },
 "nbformat": 4,
 "nbformat_minor": 2
}
