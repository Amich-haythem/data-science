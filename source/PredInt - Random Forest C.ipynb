{
 "cells": [
  {
   "cell_type": "markdown",
   "metadata": {},
   "source": [
    "# Intervalle de prédiction - Random Forest"
   ]
  },
  {
   "cell_type": "code",
   "execution_count": 1,
   "metadata": {},
   "outputs": [],
   "source": [
    "import numpy as np\n",
    "\n",
    "from sklearn.ensemble import RandomForestRegressor\n",
    "from sklearn.model_selection import train_test_split\n",
    "from sklearn.datasets import load_boston\n",
    " \n",
    "boston = load_boston()\n",
    "X = boston[\"data\"]\n",
    "y = boston[\"target\"]\n",
    "n = len(boston[\"data\"])\n",
    "\n",
    "X_train, X_test, y_train, y_test = train_test_split(X, y, test_size=0.25)"
   ]
  },
  {
   "cell_type": "code",
   "execution_count": 2,
   "metadata": {},
   "outputs": [
    {
     "data": {
      "text/plain": [
       "6578"
      ]
     },
     "execution_count": 2,
     "metadata": {},
     "output_type": "execute_result"
    }
   ],
   "source": [
    "np.size(X)"
   ]
  },
  {
   "cell_type": "code",
   "execution_count": 3,
   "metadata": {},
   "outputs": [
    {
     "data": {
      "text/plain": [
       "array(['CRIM', 'ZN', 'INDUS', 'CHAS', 'NOX', 'RM', 'AGE', 'DIS', 'RAD',\n",
       "       'TAX', 'PTRATIO', 'B', 'LSTAT'], dtype='<U7')"
      ]
     },
     "execution_count": 3,
     "metadata": {},
     "output_type": "execute_result"
    }
   ],
   "source": [
    "boston['feature_names']"
   ]
  },
  {
   "cell_type": "code",
   "execution_count": 10,
   "metadata": {},
   "outputs": [
    {
     "data": {
      "text/plain": [
       "array([[6.3200e-03, 1.8000e+01, 2.3100e+00, ..., 1.5300e+01, 3.9690e+02,\n",
       "        4.9800e+00],\n",
       "       [2.7310e-02, 0.0000e+00, 7.0700e+00, ..., 1.7800e+01, 3.9690e+02,\n",
       "        9.1400e+00],\n",
       "       [2.7290e-02, 0.0000e+00, 7.0700e+00, ..., 1.7800e+01, 3.9283e+02,\n",
       "        4.0300e+00],\n",
       "       ...,\n",
       "       [6.0760e-02, 0.0000e+00, 1.1930e+01, ..., 2.1000e+01, 3.9690e+02,\n",
       "        5.6400e+00],\n",
       "       [1.0959e-01, 0.0000e+00, 1.1930e+01, ..., 2.1000e+01, 3.9345e+02,\n",
       "        6.4800e+00],\n",
       "       [4.7410e-02, 0.0000e+00, 1.1930e+01, ..., 2.1000e+01, 3.9690e+02,\n",
       "        7.8800e+00]])"
      ]
     },
     "execution_count": 10,
     "metadata": {},
     "output_type": "execute_result"
    }
   ],
   "source": [
    "boston['data']"
   ]
  },
  {
   "cell_type": "code",
   "execution_count": 5,
   "metadata": {},
   "outputs": [
    {
     "data": {
      "text/plain": [
       "array([ 73.5341,   0.    ,  18.1   ,   0.    ,   0.679 ,   5.957 ,\n",
       "       100.    ,   1.8026,  24.    , 666.    ,  20.2   ,  16.45  ,\n",
       "        20.62  ])"
      ]
     },
     "execution_count": 5,
     "metadata": {},
     "output_type": "execute_result"
    }
   ],
   "source": [
    "X_train[0]"
   ]
  },
  {
   "cell_type": "markdown",
   "metadata": {},
   "source": [
    "## Random Forest"
   ]
  },
  {
   "cell_type": "code",
   "execution_count": 13,
   "metadata": {},
   "outputs": [
    {
     "data": {
      "text/plain": [
       "RandomForestRegressor(bootstrap=True, criterion='mse', max_depth=12,\n",
       "                      max_features='auto', max_leaf_nodes=None,\n",
       "                      min_impurity_decrease=0.0, min_impurity_split=None,\n",
       "                      min_samples_leaf=5, min_samples_split=2,\n",
       "                      min_weight_fraction_leaf=0.0, n_estimators=10,\n",
       "                      n_jobs=None, oob_score=False, random_state=None,\n",
       "                      verbose=0, warm_start=False)"
      ]
     },
     "execution_count": 13,
     "metadata": {},
     "output_type": "execute_result"
    }
   ],
   "source": [
    "# TODO : Entraîner un Random Forest\n",
    "rf = RandomForestRegressor(max_depth=12, n_estimators=10, min_samples_leaf=5)\n",
    "rf.fit(X_train, y_train)"
   ]
  },
  {
   "cell_type": "code",
   "execution_count": 14,
   "metadata": {},
   "outputs": [
    {
     "data": {
      "text/plain": [
       "0.8646195018713081"
      ]
     },
     "execution_count": 14,
     "metadata": {},
     "output_type": "execute_result"
    }
   ],
   "source": [
    "from sklearn.metrics import r2_score\n",
    "\n",
    "r2_score(y_test, rf.predict(X_test))"
   ]
  },
  {
   "cell_type": "code",
   "execution_count": 15,
   "metadata": {},
   "outputs": [],
   "source": [
    "def rf_pred_int(model, X, percentile=95):\n",
    "    \"\"\"\n",
    "    Calcule un intervalle de prédiction empirique à partir des erreurs d'entraînement\n",
    "    \"\"\"\n",
    "    err_down = []\n",
    "    err_up = []\n",
    "    # Pour chaque observation\n",
    "    for i in range(len(X)):\n",
    "        preds = []\n",
    "        # TODO : Calculer la prédiction en sortie de chaque arbre du Random Forest\n",
    "        for estimator in rf.estimators_:\n",
    "            prediction = estimator.predict([X[i, :]])[0]\n",
    "            preds.append(prediction)\n",
    "        # TODO : Calculer les quantiles en fonction du paramètre 'percentile'\n",
    "        err_down.append(np.percentile(preds, (100 - percentile) / 2))\n",
    "        err_up.append(np.percentile(preds, 100 - (100 - percentile) / 2))\n",
    "        \n",
    "    return err_down, err_up,np.array(preds)"
   ]
  },
  {
   "cell_type": "code",
   "execution_count": 16,
   "metadata": {},
   "outputs": [
    {
     "data": {
      "text/plain": [
       "array([[6.5880e-02, 0.0000e+00, 2.4600e+00, 0.0000e+00, 4.8800e-01,\n",
       "        7.7650e+00, 8.3300e+01, 2.7410e+00, 3.0000e+00, 1.9300e+02,\n",
       "        1.7800e+01, 3.9556e+02, 7.5600e+00],\n",
       "       [6.3200e-03, 1.8000e+01, 2.3100e+00, 0.0000e+00, 5.3800e-01,\n",
       "        6.5750e+00, 6.5200e+01, 4.0900e+00, 1.0000e+00, 2.9600e+02,\n",
       "        1.5300e+01, 3.9690e+02, 4.9800e+00]])"
      ]
     },
     "execution_count": 16,
     "metadata": {},
     "output_type": "execute_result"
    }
   ],
   "source": [
    "X_test[:2, :]"
   ]
  },
  {
   "cell_type": "code",
   "execution_count": 17,
   "metadata": {},
   "outputs": [
    {
     "data": {
      "text/plain": [
       "array([40.83455221])"
      ]
     },
     "execution_count": 17,
     "metadata": {},
     "output_type": "execute_result"
    }
   ],
   "source": [
    "rf.predict(X_test[:1, :])"
   ]
  },
  {
   "cell_type": "code",
   "execution_count": 11,
   "metadata": {},
   "outputs": [
    {
     "data": {
      "text/plain": [
       "([17.352363636363638],\n",
       " [23.830454545454543],\n",
       " array([19.98      , 20.38      , 19.7       , 17.48      , 19.375     ,\n",
       "        19.27      , 21.53076923, 18.5875    , 21.26      , 20.61428571,\n",
       "        20.77777778, 22.56666667, 19.89285714, 24.83333333, 19.3       ,\n",
       "        20.73478261, 17.04      , 20.67272727, 21.87692308, 20.14666667,\n",
       "        20.79285714, 19.33076923, 19.45      , 20.69090909, 22.29      ,\n",
       "        20.87272727, 18.83636364, 24.03      , 19.1       , 19.54545455,\n",
       "        17.79285714, 23.09      , 20.5125    , 21.41666667, 20.47333333,\n",
       "        20.87857143, 18.93333333, 19.7625    , 19.35714286, 18.88461538,\n",
       "        24.7125    , 19.5       , 22.4       , 19.4125    , 19.6       ,\n",
       "        18.96363636, 21.4375    , 22.4625    , 18.84      , 19.02      ,\n",
       "        20.46666667, 20.65714286, 19.35      , 16.1       , 18.60909091,\n",
       "        23.0375    , 22.07692308, 18.66      , 20.23333333, 18.7625    ,\n",
       "        21.68181818, 18.26153846, 23.        , 18.76666667, 20.4125    ,\n",
       "        22.88333333, 20.04615385, 22.55      , 22.26428571, 19.54285714,\n",
       "        20.07368421, 18.72222222, 18.97857143, 22.2       , 18.78333333,\n",
       "        17.675     , 16.95      , 19.96666667, 20.6       , 19.3       ,\n",
       "        20.9375    , 18.75833333, 20.99      , 19.33636364, 23.31666667,\n",
       "        22.38888889, 19.3125    , 23.82727273, 19.11111111, 19.57272727,\n",
       "        20.17142857, 18.51      , 20.29333333, 20.58      , 18.21111111,\n",
       "        22.24444444, 24.36      , 18.22857143, 16.84285714, 19.80769231,\n",
       "        20.32727273, 18.78333333, 20.36      , 19.3       , 19.575     ,\n",
       "        20.275     , 19.71538462, 23.17857143, 18.74444444, 20.825     ,\n",
       "        20.16153846, 20.6       , 20.14      , 19.65      , 18.58181818,\n",
       "        21.28333333, 22.50769231, 22.14615385, 18.94      , 20.2       ,\n",
       "        20.4       , 20.47857143, 22.63333333, 18.425     , 18.9       ,\n",
       "        22.26666667, 23.96      , 19.125     , 22.15      , 22.24      ,\n",
       "        18.71666667, 17.90909091, 19.96363636, 19.73      , 19.98888889,\n",
       "        17.85555556, 19.21538462, 19.5       , 22.725     , 22.57142857,\n",
       "        21.40909091, 18.77272727, 19.1375    , 18.6       , 22.16      ,\n",
       "        20.9375    , 19.64666667, 22.24      , 21.71428571, 20.77142857,\n",
       "        18.15      , 19.53636364, 21.49090909, 19.80909091, 19.45714286,\n",
       "        22.42      , 20.42      , 22.36923077, 19.09      , 17.81818182,\n",
       "        20.825     , 19.17142857, 20.475     , 20.48333333, 19.1       ,\n",
       "        22.15      , 17.46666667, 19.61818182, 20.65833333, 18.43636364,\n",
       "        21.85333333, 20.68888889, 21.11333333, 17.39      , 21.22666667,\n",
       "        19.17777778, 21.425     , 20.12      , 22.3       , 20.67777778,\n",
       "        21.98333333, 20.0625    , 18.75333333, 18.98      , 20.89      ,\n",
       "        22.2875    , 20.9       , 22.63846154, 21.37142857, 20.37142857,\n",
       "        21.84      , 23.1375    , 18.5       , 21.2875    , 19.77857143,\n",
       "        20.025     , 19.2       , 17.5125    , 22.72777778, 21.15      ,\n",
       "        19.51      , 17.01538462, 19.41538462, 19.57142857, 19.26      ,\n",
       "        19.09      , 21.3       , 21.95714286, 21.49      , 21.28      ,\n",
       "        17.55      , 23.2       , 17.88571429, 21.90714286, 25.26      ,\n",
       "        22.76363636, 18.83333333, 17.36      , 22.1       , 17.08333333,\n",
       "        23.93333333, 18.71666667, 18.38571429, 18.4       , 19.59      ,\n",
       "        22.94166667, 21.1       , 18.99166667, 19.15454545, 19.16666667,\n",
       "        19.5875    , 19.2125    , 18.96428571, 19.94545455, 19.675     ,\n",
       "        17.75555556, 22.925     , 21.3375    , 21.2875    , 18.21428571,\n",
       "        24.4       , 19.6       , 19.825     , 21.2       , 22.        ,\n",
       "        18.94166667, 18.08333333, 19.5       , 19.925     , 19.40909091,\n",
       "        21.24166667, 17.65      , 19.36666667, 20.3375    , 19.5       ,\n",
       "        19.36363636, 19.17777778, 16.88333333, 22.3       , 19.40714286,\n",
       "        21.65555556, 19.89090909, 18.76666667, 21.35      , 17.875     ,\n",
       "        22.74166667, 18.35      , 23.32      , 22.45      , 20.23076923,\n",
       "        21.06363636, 18.9375    , 19.28888889, 19.78571429, 21.81111111,\n",
       "        20.19090909, 21.16      , 19.25454545, 18.98947368, 22.65      ,\n",
       "        22.225     , 21.44285714, 21.2       , 22.42      , 18.22857143,\n",
       "        19.03333333, 22.59      , 18.98571429, 21.53333333, 18.58      ,\n",
       "        19.06      , 20.65      , 21.37      , 19.68888889, 19.075     ,\n",
       "        22.35454545, 19.95714286, 18.24444444, 22.82      , 20.43076923,\n",
       "        20.3       , 18.15263158, 18.73333333, 20.72222222, 24.56      ,\n",
       "        16.75714286, 21.80714286, 20.82222222, 18.7375    , 22.11666667,\n",
       "        22.14666667, 20.68888889, 19.675     , 20.15      , 19.24285714,\n",
       "        20.44166667, 19.14285714, 22.63076923, 19.63333333, 20.32      ,\n",
       "        22.64444444, 19.04      , 19.37857143, 20.26666667, 19.47142857,\n",
       "        22.85      , 23.4875    , 20.54285714, 17.82857143, 18.97272727,\n",
       "        19.25714286, 19.78333333, 17.34545455, 17.45882353, 17.06666667,\n",
       "        18.24      , 19.7       , 22.18333333, 18.8       , 16.73      ,\n",
       "        21.04545455, 22.0625    , 20.24      , 22.15384615, 19.775     ,\n",
       "        18.1375    , 19.82222222, 20.85833333, 17.4       , 21.26      ,\n",
       "        21.72      , 21.74      , 20.41818182, 21.37777778, 17.52      ,\n",
       "        22.14444444, 19.8       , 18.34      , 18.13636364, 24.15      ,\n",
       "        19.75      , 21.07272727, 20.63846154, 19.49090909, 21.        ,\n",
       "        20.84545455, 19.74117647, 20.84545455, 21.74166667, 21.68571429,\n",
       "        19.92142857, 22.92307692, 19.11666667, 18.38571429, 19.22      ,\n",
       "        19.39      , 18.42857143, 21.8625    , 18.62307692, 20.38      ,\n",
       "        19.21428571, 19.225     , 19.47692308, 20.03333333, 22.28      ,\n",
       "        21.3       , 20.7       , 19.83076923, 22.4125    , 20.125     ,\n",
       "        18.9       , 19.67777778, 18.73333333, 19.6       , 19.48      ,\n",
       "        20.64285714, 19.51428571, 18.125     , 23.83333333, 19.48888889,\n",
       "        21.18888889, 17.93571429, 19.82857143, 18.95833333, 23.06666667,\n",
       "        19.5       , 17.81428571, 17.93      , 20.43333333, 22.67272727,\n",
       "        17.81818182, 21.6375    , 26.98333333, 20.13333333, 18.03636364,\n",
       "        19.95714286, 19.06153846, 20.37142857, 21.075     , 19.37      ,\n",
       "        17.25625   , 17.57142857, 23.57      , 20.31333333, 19.875     ,\n",
       "        21.15      , 20.74166667, 20.025     , 17.        , 18.4       ,\n",
       "        18.76666667, 22.0875    , 17.72      , 22.3       , 19.78571429,\n",
       "        20.80769231, 22.75454545, 21.56      , 21.34375   , 19.38571429,\n",
       "        20.84285714, 20.85      , 18.31111111, 19.08571429, 17.53333333,\n",
       "        20.05      , 17.86666667, 21.06470588, 20.7       , 21.47777778,\n",
       "        20.0625    , 19.67272727, 19.0625    , 18.68125   , 21.71111111,\n",
       "        19.24      , 20.9       , 19.7       , 17.8       , 21.31111111,\n",
       "        19.47272727, 21.54      , 22.37      , 19.94      , 19.18      ,\n",
       "        20.02      , 19.93333333, 18.39090909, 17.43333333, 19.4375    ,\n",
       "        21.2       , 21.83333333, 22.84444444, 19.29090909, 22.64615385,\n",
       "        18.78888889, 19.21363636, 19.12727273, 20.88888889, 18.98571429,\n",
       "        23.05      , 19.63636364, 18.44117647, 21.06666667, 21.47142857,\n",
       "        17.78888889, 20.84285714, 18.7125    , 20.93333333, 18.70625   ,\n",
       "        18.60555556, 20.11      , 19.08181818, 23.8625    , 18.66666667,\n",
       "        19.99166667, 21.05      , 20.23636364, 18.1       , 20.86666667]))"
      ]
     },
     "execution_count": 11,
     "metadata": {},
     "output_type": "execute_result"
    }
   ],
   "source": [
    "rf_pred_int(rf, X_test[:1, :])\n"
   ]
  },
  {
   "cell_type": "code",
   "execution_count": 29,
   "metadata": {},
   "outputs": [
    {
     "ename": "ValueError",
     "evalue": "too many values to unpack (expected 2)",
     "output_type": "error",
     "traceback": [
      "\u001b[1;31m---------------------------------------------------------------------------\u001b[0m",
      "\u001b[1;31mValueError\u001b[0m                                Traceback (most recent call last)",
      "\u001b[1;32m<ipython-input-29-55fcf7e92269>\u001b[0m in \u001b[0;36m<module>\u001b[1;34m\u001b[0m\n\u001b[1;32m----> 1\u001b[1;33m \u001b[0merr_down\u001b[0m\u001b[1;33m,\u001b[0m \u001b[0merr_up\u001b[0m \u001b[1;33m=\u001b[0m \u001b[0mrf_pred_int\u001b[0m\u001b[1;33m(\u001b[0m\u001b[0mrf\u001b[0m\u001b[1;33m,\u001b[0m \u001b[0mX_train\u001b[0m\u001b[1;33m,\u001b[0m \u001b[0mpercentile\u001b[0m\u001b[1;33m=\u001b[0m\u001b[1;36m95\u001b[0m\u001b[1;33m)\u001b[0m\u001b[1;33m\u001b[0m\u001b[1;33m\u001b[0m\u001b[0m\n\u001b[0m\u001b[0;32m      2\u001b[0m \u001b[1;33m\u001b[0m\u001b[0m\n\u001b[0;32m      3\u001b[0m \u001b[0mtruth\u001b[0m \u001b[1;33m=\u001b[0m \u001b[0my_train\u001b[0m\u001b[1;33m\u001b[0m\u001b[1;33m\u001b[0m\u001b[0m\n\u001b[0;32m      4\u001b[0m \u001b[0mcorrect\u001b[0m \u001b[1;33m=\u001b[0m \u001b[1;36m0\u001b[0m\u001b[1;33m\u001b[0m\u001b[1;33m\u001b[0m\u001b[0m\n\u001b[0;32m      5\u001b[0m \u001b[1;33m\u001b[0m\u001b[0m\n",
      "\u001b[1;31mValueError\u001b[0m: too many values to unpack (expected 2)"
     ]
    }
   ],
   "source": [
    "err_down, err_up = rf_pred_int(rf, X_train, percentile=95)\n",
    " \n",
    "truth = y_train\n",
    "correct = 0\n",
    "\n",
    "# TODO : Calculer la proportion d'observation à l'intérieur de l'intervalle de prédiction empirique\n",
    "for i, val in enumerate(truth):\n",
    "    if err_down[i] <= val <= err_up[i]:\n",
    "        correct += 1\n",
    "\n",
    "print(\"Pourcentage d'observations dans l'intervalle : {:2.1f}%\".format(correct / len(truth) * 100))"
   ]
  },
  {
   "cell_type": "code",
   "execution_count": null,
   "metadata": {},
   "outputs": [],
   "source": []
  }
 ],
 "metadata": {
  "kernelspec": {
   "display_name": "Python 3",
   "language": "python",
   "name": "python3"
  },
  "language_info": {
   "codemirror_mode": {
    "name": "ipython",
    "version": 3
   },
   "file_extension": ".py",
   "mimetype": "text/x-python",
   "name": "python",
   "nbconvert_exporter": "python",
   "pygments_lexer": "ipython3",
   "version": "3.6.9"
  }
 },
 "nbformat": 4,
 "nbformat_minor": 4
}
